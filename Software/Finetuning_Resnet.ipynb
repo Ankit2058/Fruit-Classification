{
 "cells": [
  {
   "cell_type": "markdown",
   "metadata": {
    "id": "ZBju6qwE_w-f"
   },
   "source": []
  },
  {
   "cell_type": "markdown",
   "metadata": {
    "id": "DLRn9m2s_zUu"
   },
   "source": [
    "I have two dataset of rooten and fresh banana  \n",
    "First google drive is mounted to access the data\n"
   ]
  },
  {
   "cell_type": "code",
   "execution_count": 1,
   "metadata": {
    "colab": {
     "base_uri": "https://localhost:8080/"
    },
    "executionInfo": {
     "elapsed": 29358,
     "status": "ok",
     "timestamp": 1732322542810,
     "user": {
      "displayName": "Ankit Sapkota",
      "userId": "17812249283392455981"
     },
     "user_tz": -345
    },
    "id": "R7YEYC1p_7nt",
    "outputId": "e98289da-23b5-470d-ffad-eda404552560"
   },
   "outputs": [
    {
     "name": "stdout",
     "output_type": "stream",
     "text": [
      "Mounted at /content/drive\n"
     ]
    }
   ],
   "source": [
    "from google.colab import drive\n",
    "drive.mount('/content/drive')"
   ]
  },
  {
   "cell_type": "markdown",
   "metadata": {
    "id": "Cukcl8DETAi0"
   },
   "source": [
    "I got into this habit of inserting all the imports code in single code snippet"
   ]
  },
  {
   "cell_type": "code",
   "execution_count": 1,
   "metadata": {
    "executionInfo": {
     "elapsed": 9645,
     "status": "ok",
     "timestamp": 1732322558110,
     "user": {
      "displayName": "Ankit Sapkota",
      "userId": "17812249283392455981"
     },
     "user_tz": -345
    },
    "id": "0b71uBfBQffE"
   },
   "outputs": [],
   "source": [
    "import os\n",
    "import shutil\n",
    "import numpy as np\n",
    "import matplotlib.pyplot as plt\n",
    "from PIL import Image\n",
    "from IPython.display import display\n",
    "import torch\n",
    "import torchvision\n",
    "from torchvision import datasets\n",
    "from torchvision.transforms import ToTensor\n",
    "from torch import nn\n",
    "import torchvision.transforms as transforms\n",
    "from torch.utils.data import DataLoader, TensorDataset\n",
    "from sklearn.model_selection import train_test_split\n",
    "from torchvision.models import resnet18\n",
    "import torch.nn as nn\n",
    "from sklearn.metrics import precision_score, recall_score, f1_score, confusion_matrix\n",
    "from torchvision.models import resnet18, ResNet18_Weights"
   ]
  },
  {
   "cell_type": "markdown",
   "metadata": {
    "id": "xDB5IZwXdws5"
   },
   "source": [
    "lets get the gpu needed"
   ]
  },
  {
   "cell_type": "code",
   "execution_count": 2,
   "metadata": {
    "colab": {
     "base_uri": "https://localhost:8080/"
    },
    "executionInfo": {
     "elapsed": 619,
     "status": "ok",
     "timestamp": 1732322632956,
     "user": {
      "displayName": "Ankit Sapkota",
      "userId": "17812249283392455981"
     },
     "user_tz": -345
    },
    "id": "7navQiL9dzFF",
    "outputId": "e1623ce7-b7e2-48cc-fd1a-4a2292a82e2e"
   },
   "outputs": [
    {
     "name": "stdout",
     "output_type": "stream",
     "text": [
      "Using cuda device\n"
     ]
    }
   ],
   "source": [
    "# Get cpu, gpu or mps device for training.\n",
    "device = (\n",
    "    \"cuda\"\n",
    "    if torch.cuda.is_available()\n",
    "    else \"cpu\"\n",
    ")\n",
    "print(f\"Using {device} device\")"
   ]
  },
  {
   "cell_type": "markdown",
   "metadata": {
    "id": "s_8sjXNrwjY6"
   },
   "source": [
    "Now i save the path to the data in two variables  \n",
    "I will retrive data in the drive via these links"
   ]
  },
  {
   "cell_type": "code",
   "execution_count": 3,
   "metadata": {},
   "outputs": [
    {
     "name": "stdout",
     "output_type": "stream",
     "text": [
      "Device: GPU (NVIDIA GeForce GTX 1650)\n",
      "Total GPU Memory: 4.29 GB\n",
      "CUDA Capability: 7.5\n",
      "PyTorch Version: 2.3.1+cu118\n",
      "Using device: cuda\n"
     ]
    }
   ],
   "source": [
    "# Check if CUDA (GPU) is available\n",
    "if torch.cuda.is_available():\n",
    "    device = torch.device(\"cuda\")\n",
    "    gpu_name = torch.cuda.get_device_name(0)\n",
    "    total_memory = torch.cuda.get_device_properties(0).total_memory / 1e9  # Convert bytes to GB\n",
    "    print(f\"Device: GPU ({gpu_name})\")\n",
    "    print(f\"Total GPU Memory: {total_memory:.2f} GB\")\n",
    "    print(f\"CUDA Capability: {torch.cuda.get_device_properties(0).major}.{torch.cuda.get_device_properties(0).minor}\")\n",
    "else:\n",
    "    device = torch.device(\"cpu\")\n",
    "    print(\"Device: CPU\")\n",
    "    \n",
    "# PyTorch version\n",
    "print(f\"PyTorch Version: {torch.__version__}\")\n",
    "\n",
    "# Selected device\n",
    "print(f\"Using device: {device}\")\n"
   ]
  },
  {
   "cell_type": "code",
   "execution_count": 4,
   "metadata": {
    "executionInfo": {
     "elapsed": 610,
     "status": "ok",
     "timestamp": 1732322643825,
     "user": {
      "displayName": "Ankit Sapkota",
      "userId": "17812249283392455981"
     },
     "user_tz": -345
    },
    "id": "oDwOEmY7uv6J"
   },
   "outputs": [],
   "source": [
    "#Path to folders with data in drive\n",
    "F_Banana = r\"C:\\Users\\User\\Desktop\\DeepLearning\\Major Project\\F_Banana\"\n",
    "S_Banana = r\"C:\\Users\\User\\Desktop\\DeepLearning\\Major Project\\S_Banana\"\n",
    "C_Belt   = r\"C:\\Users\\User\\Desktop\\DeepLearning\\Major Project\\Black\""
   ]
  },
  {
   "cell_type": "markdown",
   "metadata": {
    "id": "5TNkAQpOw1d7"
   },
   "source": [
    "This code snippet retrives data from drive"
   ]
  },
  {
   "cell_type": "code",
   "execution_count": 5,
   "metadata": {
    "colab": {
     "base_uri": "https://localhost:8080/",
     "height": 308
    },
    "executionInfo": {
     "elapsed": 3602,
     "status": "ok",
     "timestamp": 1732322650228,
     "user": {
      "displayName": "Ankit Sapkota",
      "userId": "17812249283392455981"
     },
     "user_tz": -345
    },
    "id": "79Go3JMcuzra",
    "outputId": "4e9a6ba1-f2cb-43d0-f411-54a7bd15decd"
   },
   "outputs": [
    {
     "name": "stdout",
     "output_type": "stream",
     "text": [
      "<PIL.Image.Image image mode=RGB size=64x64 at 0x1CB7FC99050>\n"
     ]
    },
    {
     "data": {
      "image/jpeg": "[encoded data removed]",
      "image/png": "[encoded data removed]",
      "text/plain": [
       "<PIL.Image.Image image mode=RGB size=64x64>"
      ]
     },
     "metadata": {},
     "output_type": "display_data"
    },
    {
     "name": "stdout",
     "output_type": "stream",
     "text": [
      "WIN_20241205_12_50_14_Pro.jpg\n"
     ]
    }
   ],
   "source": [
    "file_list =os.listdir(S_Banana) #file names in F-Banana are listed in file_list\n",
    "file_name=file_list[200]\n",
    "image_path=os.path.join(S_Banana, file_name)#full path to a particular file\n",
    "image = Image.open(image_path).convert('RGB')  # Converting to RGB\n",
    "image = image.resize((64, 64))#resizing the image\n",
    "print(image)\n",
    "display(image)\n",
    "print(file_name)"
   ]
  },
  {
   "cell_type": "markdown",
   "metadata": {
    "id": "n5nhOR-KCxo0"
   },
   "source": [
    "So lets give a brief idea of whats been done till now an what things will be done in the future.\n",
    "\n",
    "**Tillnow** we have able to retrive data from the drive link\n",
    "we have a list of links of data which can be later used for training pupose\n",
    "\n",
    "**Whats ahead?**\n",
    "We need to design a dataloader which will load data onto the model\n",
    "We need to make a model\n",
    "Then use the model to predict the image"
   ]
  },
  {
   "cell_type": "code",
   "execution_count": 6,
   "metadata": {
    "colab": {
     "base_uri": "https://localhost:8080/"
    },
    "executionInfo": {
     "elapsed": 15204,
     "status": "ok",
     "timestamp": 1732322668822,
     "user": {
      "displayName": "Ankit Sapkota",
      "userId": "17812249283392455981"
     },
     "user_tz": -345
    },
    "id": "Wum-C_yyPRaY",
    "outputId": "fcf562f1-121b-4557-b829-62e8136860c0"
   },
   "outputs": [
    {
     "name": "stdout",
     "output_type": "stream",
     "text": [
      "Batch of images: torch.Size([64, 3, 224, 224])\n",
      "Batch of labels: tensor([1, 0, 1, 0, 2, 0, 1, 2, 0, 0, 2, 0, 0, 0, 1, 2, 0, 0, 2, 0, 2, 1, 2, 2,\n",
      "        2, 0, 0, 1, 1, 2, 0, 0, 1, 1, 0, 0, 2, 0, 1, 0, 0, 1, 0, 1, 1, 1, 2, 1,\n",
      "        0, 1, 2, 1, 2, 1, 1, 0, 2, 1, 0, 1, 0, 1, 1, 1])\n"
     ]
    }
   ],
   "source": [
    "# Define labels\n",
    "labels = {'fresh': 0, 'rotten': 1,'C_Belt':2}\n",
    "\n",
    "# Load images and assign labels\n",
    "data = []\n",
    "for label, folder in [('fresh', F_Banana), ('rotten', S_Banana),('C_Belt', C_Belt)]:\n",
    "    for file_name in os.listdir(folder):\n",
    "        img_path = os.path.join(folder, file_name)\n",
    "        if file_name.endswith(('.jpg', '.png', '.jpeg')):  # Filter image files\n",
    "            data.append((img_path, labels[label]))\n",
    "\n",
    "# Split into train and test datasets\n",
    "train_data, test_data = train_test_split(data, test_size=0.2, random_state=42)\n",
    "\n",
    "# Define a transformation pipeline\n",
    "transform = transforms.Compose([\n",
    "    transforms.Resize((224, 224)),  # Resize to a standard size\n",
    "    transforms.ToTensor(),         # Convert to tensor\n",
    "    transforms.Normalize(mean=[0.5, 0.5, 0.5], std=[0.5, 0.5, 0.5])  # Normalize\n",
    "])\n",
    "\n",
    "# Custom Dataset class\n",
    "class BananaDataset(torch.utils.data.Dataset):\n",
    "    def __init__(self, data, transform=None):\n",
    "        self.data = data\n",
    "        self.transform = transform\n",
    "\n",
    "    def __len__(self):\n",
    "        return len(self.data)\n",
    "\n",
    "    def __getitem__(self, idx):\n",
    "        img_path, label = self.data[idx]\n",
    "        image = Image.open(img_path).convert('RGB')\n",
    "        if self.transform:\n",
    "            image = self.transform(image)\n",
    "        return image, label\n",
    "\n",
    "# Create datasets\n",
    "train_dataset = BananaDataset(train_data, transform=transform)\n",
    "test_dataset = BananaDataset(test_data, transform=transform)\n",
    "\n",
    "# Convert to DataLoader\n",
    "train_loader = DataLoader(train_dataset, batch_size=64, shuffle=True)\n",
    "test_loader = DataLoader(test_dataset, batch_size=64, shuffle=False)\n",
    "\n",
    "# Example: Checking one batch\n",
    "for images, labels in train_loader:\n",
    "    print(f\"Batch of images: {images.shape}\")  # Should be [batch_size, 3, 224, 224]\n",
    "    print(f\"Batch of labels: {labels}\")\n",
    "    break"
   ]
  },
  {
   "cell_type": "code",
   "execution_count": 7,
   "metadata": {
    "colab": {
     "base_uri": "https://localhost:8080/"
    },
    "executionInfo": {
     "elapsed": 821,
     "status": "ok",
     "timestamp": 1732322674186,
     "user": {
      "displayName": "Ankit Sapkota",
      "userId": "17812249283392455981"
     },
     "user_tz": -345
    },
    "id": "PCb8AxTAE7ff",
    "outputId": "2c95b7c6-8444-404a-caf2-b268566c8a35"
   },
   "outputs": [
    {
     "name": "stdout",
     "output_type": "stream",
     "text": [
      "<__main__.BananaDataset object at 0x000001CB7FCB7450>\n"
     ]
    }
   ],
   "source": [
    "print(train_dataset)"
   ]
  },
  {
   "cell_type": "code",
   "execution_count": 8,
   "metadata": {
    "colab": {
     "base_uri": "https://localhost:8080/"
    },
    "executionInfo": {
     "elapsed": 7,
     "status": "ok",
     "timestamp": 1732322677784,
     "user": {
      "displayName": "Ankit Sapkota",
      "userId": "17812249283392455981"
     },
     "user_tz": -345
    },
    "id": "3d0m_wHNQzHX",
    "outputId": "272d70fb-6eee-4e14-9c90-1f3823f88e2c"
   },
   "outputs": [
    {
     "name": "stdout",
     "output_type": "stream",
     "text": [
      "we have 1060 data for training and 266 for testing\n"
     ]
    }
   ],
   "source": [
    "print(f\"we have {len(train_data)} data for training and {len(test_data)} for testing\")\n",
    "#we have a huge dataset and we cant inset it directly into the"
   ]
  },
  {
   "cell_type": "markdown",
   "metadata": {
    "id": "RlJW9KZKTc4D"
   },
   "source": [
    "its an matrics of numbers."
   ]
  },
  {
   "cell_type": "code",
   "execution_count": 9,
   "metadata": {
    "colab": {
     "base_uri": "https://localhost:8080/"
    },
    "executionInfo": {
     "elapsed": 6677,
     "status": "ok",
     "timestamp": 1732322758203,
     "user": {
      "displayName": "Ankit Sapkota",
      "userId": "17812249283392455981"
     },
     "user_tz": -345
    },
    "id": "Ym9q-Gr_Thl-",
    "outputId": "8d748a68-836f-470a-ff37-be282c7c3987"
   },
   "outputs": [
    {
     "name": "stdout",
     "output_type": "stream",
     "text": [
      "ResNet(\n",
      "  (conv1): Conv2d(3, 64, kernel_size=(7, 7), stride=(2, 2), padding=(3, 3), bias=False)\n",
      "  (bn1): BatchNorm2d(64, eps=1e-05, momentum=0.1, affine=True, track_running_stats=True)\n",
      "  (relu): ReLU(inplace=True)\n",
      "  (maxpool): MaxPool2d(kernel_size=3, stride=2, padding=1, dilation=1, ceil_mode=False)\n",
      "  (layer1): Sequential(\n",
      "    (0): BasicBlock(\n",
      "      (conv1): Conv2d(64, 64, kernel_size=(3, 3), stride=(1, 1), padding=(1, 1), bias=False)\n",
      "      (bn1): BatchNorm2d(64, eps=1e-05, momentum=0.1, affine=True, track_running_stats=True)\n",
      "      (relu): ReLU(inplace=True)\n",
      "      (conv2): Conv2d(64, 64, kernel_size=(3, 3), stride=(1, 1), padding=(1, 1), bias=False)\n",
      "      (bn2): BatchNorm2d(64, eps=1e-05, momentum=0.1, affine=True, track_running_stats=True)\n",
      "    )\n",
      "    (1): BasicBlock(\n",
      "      (conv1): Conv2d(64, 64, kernel_size=(3, 3), stride=(1, 1), padding=(1, 1), bias=False)\n",
      "      (bn1): BatchNorm2d(64, eps=1e-05, momentum=0.1, affine=True, track_running_stats=True)\n",
      "      (relu): ReLU(inplace=True)\n",
      "      (conv2): Conv2d(64, 64, kernel_size=(3, 3), stride=(1, 1), padding=(1, 1), bias=False)\n",
      "      (bn2): BatchNorm2d(64, eps=1e-05, momentum=0.1, affine=True, track_running_stats=True)\n",
      "    )\n",
      "  )\n",
      "  (layer2): Sequential(\n",
      "    (0): BasicBlock(\n",
      "      (conv1): Conv2d(64, 128, kernel_size=(3, 3), stride=(2, 2), padding=(1, 1), bias=False)\n",
      "      (bn1): BatchNorm2d(128, eps=1e-05, momentum=0.1, affine=True, track_running_stats=True)\n",
      "      (relu): ReLU(inplace=True)\n",
      "      (conv2): Conv2d(128, 128, kernel_size=(3, 3), stride=(1, 1), padding=(1, 1), bias=False)\n",
      "      (bn2): BatchNorm2d(128, eps=1e-05, momentum=0.1, affine=True, track_running_stats=True)\n",
      "      (downsample): Sequential(\n",
      "        (0): Conv2d(64, 128, kernel_size=(1, 1), stride=(2, 2), bias=False)\n",
      "        (1): BatchNorm2d(128, eps=1e-05, momentum=0.1, affine=True, track_running_stats=True)\n",
      "      )\n",
      "    )\n",
      "    (1): BasicBlock(\n",
      "      (conv1): Conv2d(128, 128, kernel_size=(3, 3), stride=(1, 1), padding=(1, 1), bias=False)\n",
      "      (bn1): BatchNorm2d(128, eps=1e-05, momentum=0.1, affine=True, track_running_stats=True)\n",
      "      (relu): ReLU(inplace=True)\n",
      "      (conv2): Conv2d(128, 128, kernel_size=(3, 3), stride=(1, 1), padding=(1, 1), bias=False)\n",
      "      (bn2): BatchNorm2d(128, eps=1e-05, momentum=0.1, affine=True, track_running_stats=True)\n",
      "    )\n",
      "  )\n",
      "  (layer3): Sequential(\n",
      "    (0): BasicBlock(\n",
      "      (conv1): Conv2d(128, 256, kernel_size=(3, 3), stride=(2, 2), padding=(1, 1), bias=False)\n",
      "      (bn1): BatchNorm2d(256, eps=1e-05, momentum=0.1, affine=True, track_running_stats=True)\n",
      "      (relu): ReLU(inplace=True)\n",
      "      (conv2): Conv2d(256, 256, kernel_size=(3, 3), stride=(1, 1), padding=(1, 1), bias=False)\n",
      "      (bn2): BatchNorm2d(256, eps=1e-05, momentum=0.1, affine=True, track_running_stats=True)\n",
      "      (downsample): Sequential(\n",
      "        (0): Conv2d(128, 256, kernel_size=(1, 1), stride=(2, 2), bias=False)\n",
      "        (1): BatchNorm2d(256, eps=1e-05, momentum=0.1, affine=True, track_running_stats=True)\n",
      "      )\n",
      "    )\n",
      "    (1): BasicBlock(\n",
      "      (conv1): Conv2d(256, 256, kernel_size=(3, 3), stride=(1, 1), padding=(1, 1), bias=False)\n",
      "      (bn1): BatchNorm2d(256, eps=1e-05, momentum=0.1, affine=True, track_running_stats=True)\n",
      "      (relu): ReLU(inplace=True)\n",
      "      (conv2): Conv2d(256, 256, kernel_size=(3, 3), stride=(1, 1), padding=(1, 1), bias=False)\n",
      "      (bn2): BatchNorm2d(256, eps=1e-05, momentum=0.1, affine=True, track_running_stats=True)\n",
      "    )\n",
      "  )\n",
      "  (layer4): Sequential(\n",
      "    (0): Conv2d(256, 256, kernel_size=(3, 3), stride=(1, 1), padding=(1, 1))\n",
      "    (1): ReLU()\n",
      "    (2): AdaptiveAvgPool2d(output_size=(1, 1))\n",
      "  )\n",
      "  (avgpool): AdaptiveAvgPool2d(output_size=(1, 1))\n",
      "  (fc): Linear(in_features=256, out_features=3, bias=True)\n",
      ")\n"
     ]
    }
   ],
   "source": [
    "# Load the pre-trained ResNet18 model\n",
    "#I have to import this paticular weights that is recommended cause the usual one threw loads and loads of warnings\n",
    "weights = ResNet18_Weights.IMAGENET1K_V1\n",
    "model = resnet18(weights=weights)\n",
    "# Freeze earlier layers\n",
    "for param in model.parameters():\n",
    "    param.requires_grad = False\n",
    "\n",
    "# Modify the last two layers\n",
    "# Replace the last fully connected layer (fc)\n",
    "# Replace the second last layer (`layer4`)\n",
    "model.layer4 = nn.Sequential(\n",
    "    nn.Conv2d(256, 256, kernel_size=3, stride=1, padding=1),  # Match input channels (256)\n",
    "    nn.ReLU(),\n",
    "    nn.AdaptiveAvgPool2d((1, 1))\n",
    ")\n",
    "\n",
    "# Replace the fc layer\n",
    "model.fc = nn.Linear(256, 3)  # Adjusted for 256 output features from modified layer4\n",
    "\n",
    "# Move model to the specified device\n",
    "model = model.to(device)\n",
    "\n",
    "# Print the model structure\n",
    "print(model)\n"
   ]
  },
  {
   "cell_type": "code",
   "execution_count": 10,
   "metadata": {},
   "outputs": [
    {
     "name": "stdout",
     "output_type": "stream",
     "text": [
      "cuda:0\n"
     ]
    }
   ],
   "source": [
    "print(next(model.parameters()).device)"
   ]
  },
  {
   "cell_type": "code",
   "execution_count": 11,
   "metadata": {
    "executionInfo": {
     "elapsed": 605,
     "status": "ok",
     "timestamp": 1732322802952,
     "user": {
      "displayName": "Ankit Sapkota",
      "userId": "17812249283392455981"
     },
     "user_tz": -345
    },
    "id": "Q8ZRy8jaT1nA"
   },
   "outputs": [],
   "source": [
    "loss_fn = nn.CrossEntropyLoss()\n",
    "learning_rate = 1e-3\n",
    "optimizer = torch.optim.Adam(model.parameters(), lr=learning_rate)\n",
    "epoch=10\n",
    "batch_size=64"
   ]
  },
  {
   "cell_type": "code",
   "execution_count": 12,
   "metadata": {},
   "outputs": [],
   "source": [
    "# Initialize empty lists to store metrics\n",
    "epoch_nums = []\n",
    "test_losses = []\n",
    "accuracies = []\n",
    "precisions = []\n",
    "recalls = []\n",
    "f1_scores = []"
   ]
  },
  {
   "cell_type": "code",
   "execution_count": 13,
   "metadata": {
    "executionInfo": {
     "elapsed": 719,
     "status": "ok",
     "timestamp": 1732322928807,
     "user": {
      "displayName": "Ankit Sapkota",
      "userId": "17812249283392455981"
     },
     "user_tz": -345
    },
    "id": "IlyJkza3VWV6"
   },
   "outputs": [],
   "source": [
    "def train_loop(dataloader, model, loss_fn, optimizer):\n",
    "    size = len(dataloader.dataset)\n",
    "    model.train()\n",
    "    for batch, (X, y) in enumerate(dataloader):\n",
    "        X, y = X.to(device), y.to(device)\n",
    "\n",
    "        # Compute prediction and loss\n",
    "        pred = model(X)\n",
    "        loss = loss_fn(pred, y)\n",
    "\n",
    "        # Backpropagation\n",
    "        loss.backward()\n",
    "        optimizer.step()\n",
    "        optimizer.zero_grad()\n",
    "\n",
    "        if batch % 100 == 0:\n",
    "            print(batch)\n",
    "            loss, current = loss.item(), batch * len(X)\n",
    "            print(f\"loss: {loss:>7f}  [{current:>5d}/{size:>5d}]\")\n",
    "\n",
    "\n",
    "\n",
    "# Test loop with proper appending\n",
    "def test_loop(dataloader, model, loss_fn, epoch):\n",
    "    model.eval()\n",
    "    size = len(dataloader.dataset)\n",
    "    num_batches = len(dataloader)\n",
    "    test_loss, correct = 0, 0\n",
    "\n",
    "    all_preds = []\n",
    "    all_labels = []\n",
    "\n",
    "    with torch.no_grad():\n",
    "        for X, y in dataloader:\n",
    "            X, y = X.to(device), y.to(device)\n",
    "            pred = model(X)\n",
    "\n",
    "            all_preds.append(pred.argmax(1).cpu())\n",
    "            all_labels.append(y.cpu())\n",
    "\n",
    "            test_loss += loss_fn(pred, y).item()\n",
    "            correct += (pred.argmax(1) == y).type(torch.float).sum().item()\n",
    "\n",
    "    all_preds = torch.cat(all_preds).numpy()\n",
    "    all_labels = torch.cat(all_labels).numpy()\n",
    "\n",
    "    test_loss /= num_batches\n",
    "    accuracy = correct / size\n",
    "    precision = precision_score(all_labels, all_preds, average=\"weighted\")\n",
    "    recall = recall_score(all_labels, all_preds, average=\"weighted\")\n",
    "    f1 = f1_score(all_labels, all_preds, average=\"weighted\")\n",
    "\n",
    "    # Append values to the lists\n",
    "    epoch_nums.append(epoch)  # Ensure this increments correctly\n",
    "    test_losses.append(test_loss)\n",
    "    accuracies.append(accuracy)\n",
    "    precisions.append(precision)\n",
    "    recalls.append(recall)\n",
    "    f1_scores.append(f1)\n",
    "\n",
    "    print(f\"Epoch {epoch}: Test Loss = {test_loss:.4f}, Accuracy = {accuracy:.4f}, \"\n",
    "          f\"Precision = {precision:.4f}, Recall = {recall:.4f}, F1 Score = {f1:.4f}\")\n",
    "\n",
    "\n",
    "def final_plot():\n",
    "    \"\"\"Function to plot metrics in separate plots for better clarity.\"\"\"\n",
    "    # Plot Accuracy\n",
    "    plt.figure(figsize=(8, 5))\n",
    "    plt.plot(epoch_nums, accuracies, marker='o', linestyle='-', color='blue', label=\"Accuracy\")\n",
    "    plt.xlabel(\"Epoch\")\n",
    "    plt.ylabel(\"Accuracy\")\n",
    "    plt.title(\"Accuracy Over Epochs\")\n",
    "    plt.ylim(0, 1.0)\n",
    "    plt.grid(True)\n",
    "    plt.legend(loc=\"lower right\")\n",
    "    plt.show()\n",
    "\n",
    "    # Plot Precision\n",
    "\n",
    "    # Plot Recall\n",
    "    plt.figure(figsize=(8, 5))\n",
    "    plt.plot(epoch_nums, recalls, marker='s', linestyle='-.', color='red', label=\"Recall\")\n",
    "    plt.xlabel(\"Epoch\")\n",
    "    plt.ylabel(\"Recall\")\n",
    "    plt.title(\"Recall Over Epochs\")\n",
    "    plt.ylim(0, 1.0)\n",
    "    plt.grid(True)\n",
    "    plt.legend(loc=\"lower right\")\n",
    "    plt.show()\n",
    "\n",
    "    # Plot F1 Score\n",
    "    plt.figure(figsize=(8, 5))\n",
    "    plt.plot(epoch_nums, f1_scores, marker='x', linestyle=':', color='purple', label=\"F1 Score\")\n",
    "    plt.xlabel(\"Epoch\")\n",
    "    plt.ylabel(\"F1 Score\")\n",
    "    plt.title(\"F1 Score Over Epochs\")\n",
    "    plt.ylim(0, 1.0)\n",
    "    plt.grid(True)\n",
    "    plt.legend(loc=\"lower right\")\n",
    "    plt.show()\n",
    "\n",
    "    # Plot Test Loss\n",
    "    plt.figure(figsize=(8, 5))\n",
    "    plt.plot(epoch_nums, test_losses, marker='d', linestyle='-', color='orange', label=\"Test Loss\")\n",
    "    plt.xlabel(\"Epoch\")\n",
    "    plt.ylabel(\"Test Loss\")\n",
    "    plt.title(\"Test Loss Over Epochs\")\n",
    "    plt.grid(True)\n",
    "    plt.legend(loc=\"upper right\")\n",
    "    plt.show()\n"
   ]
  },
  {
   "cell_type": "code",
   "execution_count": 14,
   "metadata": {},
   "outputs": [
    {
     "name": "stdout",
     "output_type": "stream",
     "text": [
      "Total number of parameters: 3373635\n"
     ]
    }
   ],
   "source": [
    "# Calculate total number of parameters\n",
    "total_params = sum(p.numel() for p in model.parameters())\n",
    "print(f\"Total number of parameters: {total_params}\")"
   ]
  },
  {
   "cell_type": "code",
   "execution_count": 15,
   "metadata": {
    "colab": {
     "base_uri": "https://localhost:8080/"
    },
    "executionInfo": {
     "elapsed": 214626,
     "status": "ok",
     "timestamp": 1732323146444,
     "user": {
      "displayName": "Ankit Sapkota",
      "userId": "17812249283392455981"
     },
     "user_tz": -345
    },
    "id": "74ftuyUyVo6k",
    "outputId": "0983b843-840a-46bc-8466-fdc64706cdf6"
   },
   "outputs": [
    {
     "name": "stdout",
     "output_type": "stream",
     "text": [
      "0\n",
      "loss: 1.099758  [    0/ 1060]\n",
      "Epoch 1: Test Loss = 0.4164, Accuracy = 0.9436, Precision = 0.9534, Recall = 0.9436, F1 Score = 0.9439\n",
      "0\n",
      "loss: 0.338804  [    0/ 1060]\n",
      "Epoch 2: Test Loss = 0.1902, Accuracy = 0.9887, Precision = 0.9892, Recall = 0.9887, F1 Score = 0.9887\n",
      "0\n",
      "loss: 0.191664  [    0/ 1060]\n",
      "Epoch 3: Test Loss = 0.0948, Accuracy = 1.0000, Precision = 1.0000, Recall = 1.0000, F1 Score = 1.0000\n",
      "0\n",
      "loss: 0.074560  [    0/ 1060]\n",
      "Epoch 4: Test Loss = 0.0509, Accuracy = 1.0000, Precision = 1.0000, Recall = 1.0000, F1 Score = 1.0000\n",
      "0\n",
      "loss: 0.050283  [    0/ 1060]\n",
      "Epoch 5: Test Loss = 0.0403, Accuracy = 1.0000, Precision = 1.0000, Recall = 1.0000, F1 Score = 1.0000\n",
      "0\n",
      "loss: 0.052537  [    0/ 1060]\n",
      "Epoch 6: Test Loss = 0.0229, Accuracy = 1.0000, Precision = 1.0000, Recall = 1.0000, F1 Score = 1.0000\n",
      "0\n",
      "loss: 0.019869  [    0/ 1060]\n",
      "Epoch 7: Test Loss = 0.0177, Accuracy = 1.0000, Precision = 1.0000, Recall = 1.0000, F1 Score = 1.0000\n",
      "0\n",
      "loss: 0.013585  [    0/ 1060]\n",
      "Epoch 8: Test Loss = 0.0196, Accuracy = 1.0000, Precision = 1.0000, Recall = 1.0000, F1 Score = 1.0000\n",
      "0\n",
      "loss: 0.021852  [    0/ 1060]\n",
      "Epoch 9: Test Loss = 0.0106, Accuracy = 1.0000, Precision = 1.0000, Recall = 1.0000, F1 Score = 1.0000\n",
      "0\n",
      "loss: 0.010070  [    0/ 1060]\n",
      "Epoch 10: Test Loss = 0.0098, Accuracy = 1.0000, Precision = 1.0000, Recall = 1.0000, F1 Score = 1.0000\n",
      "0\n",
      "loss: 0.009816  [    0/ 1060]\n",
      "Epoch 11: Test Loss = 0.0082, Accuracy = 1.0000, Precision = 1.0000, Recall = 1.0000, F1 Score = 1.0000\n",
      "0\n",
      "loss: 0.005343  [    0/ 1060]\n",
      "Epoch 12: Test Loss = 0.0062, Accuracy = 1.0000, Precision = 1.0000, Recall = 1.0000, F1 Score = 1.0000\n",
      "0\n",
      "loss: 0.011127  [    0/ 1060]\n",
      "Epoch 13: Test Loss = 0.0055, Accuracy = 1.0000, Precision = 1.0000, Recall = 1.0000, F1 Score = 1.0000\n",
      "0\n",
      "loss: 0.004882  [    0/ 1060]\n",
      "Epoch 14: Test Loss = 0.0043, Accuracy = 1.0000, Precision = 1.0000, Recall = 1.0000, F1 Score = 1.0000\n",
      "0\n",
      "loss: 0.003089  [    0/ 1060]\n",
      "Epoch 15: Test Loss = 0.0052, Accuracy = 1.0000, Precision = 1.0000, Recall = 1.0000, F1 Score = 1.0000\n",
      "0\n",
      "loss: 0.008074  [    0/ 1060]\n",
      "Epoch 16: Test Loss = 0.0036, Accuracy = 1.0000, Precision = 1.0000, Recall = 1.0000, F1 Score = 1.0000\n",
      "0\n",
      "loss: 0.003700  [    0/ 1060]\n",
      "Epoch 17: Test Loss = 0.0045, Accuracy = 1.0000, Precision = 1.0000, Recall = 1.0000, F1 Score = 1.0000\n",
      "0\n",
      "loss: 0.002986  [    0/ 1060]\n",
      "Epoch 18: Test Loss = 0.0054, Accuracy = 1.0000, Precision = 1.0000, Recall = 1.0000, F1 Score = 1.0000\n",
      "0\n",
      "loss: 0.004434  [    0/ 1060]\n",
      "Epoch 19: Test Loss = 0.0024, Accuracy = 1.0000, Precision = 1.0000, Recall = 1.0000, F1 Score = 1.0000\n",
      "0\n",
      "loss: 0.002725  [    0/ 1060]\n",
      "Epoch 20: Test Loss = 0.0026, Accuracy = 1.0000, Precision = 1.0000, Recall = 1.0000, F1 Score = 1.0000\n"
     ]
    }
   ],
   "source": [
    "#now all we need to do is train and test the model for the number of times(epochs) we want\n",
    "num_epochs=20\n",
    "for epoch in range(1, num_epochs + 1):\n",
    "    train_loop(train_loader, model, loss_fn, optimizer)\n",
    "    test_loop(test_loader, model, loss_fn, epoch)\n"
   ]
  },
  {
   "cell_type": "code",
   "execution_count": 16,
   "metadata": {},
   "outputs": [
    {
     "data": {
      "image/png": "[encoded data removed]",
      "text/plain": [
       "<Figure size 800x500 with 1 Axes>"
      ]
     },
     "metadata": {},
     "output_type": "display_data"
    },
    {
     "data": {
      "image/png": "[encoded data removed]",
      "text/plain": [
       "<Figure size 800x500 with 1 Axes>"
      ]
     },
     "metadata": {},
     "output_type": "display_data"
    },
    {
     "data": {
      "image/png": "[encoded data removed]",
      "text/plain": [
       "<Figure size 800x500 with 1 Axes>"
      ]
     },
     "metadata": {},
     "output_type": "display_data"
    },
    {
     "data": {
      "image/png": "[encoded data removed]",
      "text/plain": [
       "<Figure size 800x500 with 1 Axes>"
      ]
     },
     "metadata": {},
     "output_type": "display_data"
    }
   ],
   "source": [
    "final_plot()"
   ]
  },
  {
   "cell_type": "code",
   "execution_count": 17,
   "metadata": {
    "colab": {
     "base_uri": "https://localhost:8080/"
    },
    "executionInfo": {
     "elapsed": 17096,
     "status": "ok",
     "timestamp": 1732323445780,
     "user": {
      "displayName": "Ankit Sapkota",
      "userId": "17812249283392455981"
     },
     "user_tz": -345
    },
    "id": "kqDIkBePg_8k",
    "outputId": "4263014a-d268-4d23-e625-3caefa5305d0"
   },
   "outputs": [
    {
     "name": "stdout",
     "output_type": "stream",
     "text": [
      "Model parameters saved to C:\\Users\\User\\Desktop\\DeepLearning\\Major Project\\resnet_model_parameters_6.0.pth\n"
     ]
    }
   ],
   "source": [
    "save_path = r\"C:\\Users\\User\\Desktop\\DeepLearning\\Major Project\\resnet_model_parameters_6.0.pth\"\n",
    "torch.save(model.state_dict(), save_path)\n",
    "print(f\"Model parameters saved to {save_path}\")"
   ]
  },
  {
   "cell_type": "code",
   "execution_count": 18,
   "metadata": {
    "id": "LW1iSHDbbPpA"
   },
   "outputs": [
    {
     "data": {
      "text/plain": [
       "ResNet(\n",
       "  (conv1): Conv2d(3, 64, kernel_size=(7, 7), stride=(2, 2), padding=(3, 3), bias=False)\n",
       "  (bn1): BatchNorm2d(64, eps=1e-05, momentum=0.1, affine=True, track_running_stats=True)\n",
       "  (relu): ReLU(inplace=True)\n",
       "  (maxpool): MaxPool2d(kernel_size=3, stride=2, padding=1, dilation=1, ceil_mode=False)\n",
       "  (layer1): Sequential(\n",
       "    (0): BasicBlock(\n",
       "      (conv1): Conv2d(64, 64, kernel_size=(3, 3), stride=(1, 1), padding=(1, 1), bias=False)\n",
       "      (bn1): BatchNorm2d(64, eps=1e-05, momentum=0.1, affine=True, track_running_stats=True)\n",
       "      (relu): ReLU(inplace=True)\n",
       "      (conv2): Conv2d(64, 64, kernel_size=(3, 3), stride=(1, 1), padding=(1, 1), bias=False)\n",
       "      (bn2): BatchNorm2d(64, eps=1e-05, momentum=0.1, affine=True, track_running_stats=True)\n",
       "    )\n",
       "    (1): BasicBlock(\n",
       "      (conv1): Conv2d(64, 64, kernel_size=(3, 3), stride=(1, 1), padding=(1, 1), bias=False)\n",
       "      (bn1): BatchNorm2d(64, eps=1e-05, momentum=0.1, affine=True, track_running_stats=True)\n",
       "      (relu): ReLU(inplace=True)\n",
       "      (conv2): Conv2d(64, 64, kernel_size=(3, 3), stride=(1, 1), padding=(1, 1), bias=False)\n",
       "      (bn2): BatchNorm2d(64, eps=1e-05, momentum=0.1, affine=True, track_running_stats=True)\n",
       "    )\n",
       "  )\n",
       "  (layer2): Sequential(\n",
       "    (0): BasicBlock(\n",
       "      (conv1): Conv2d(64, 128, kernel_size=(3, 3), stride=(2, 2), padding=(1, 1), bias=False)\n",
       "      (bn1): BatchNorm2d(128, eps=1e-05, momentum=0.1, affine=True, track_running_stats=True)\n",
       "      (relu): ReLU(inplace=True)\n",
       "      (conv2): Conv2d(128, 128, kernel_size=(3, 3), stride=(1, 1), padding=(1, 1), bias=False)\n",
       "      (bn2): BatchNorm2d(128, eps=1e-05, momentum=0.1, affine=True, track_running_stats=True)\n",
       "      (downsample): Sequential(\n",
       "        (0): Conv2d(64, 128, kernel_size=(1, 1), stride=(2, 2), bias=False)\n",
       "        (1): BatchNorm2d(128, eps=1e-05, momentum=0.1, affine=True, track_running_stats=True)\n",
       "      )\n",
       "    )\n",
       "    (1): BasicBlock(\n",
       "      (conv1): Conv2d(128, 128, kernel_size=(3, 3), stride=(1, 1), padding=(1, 1), bias=False)\n",
       "      (bn1): BatchNorm2d(128, eps=1e-05, momentum=0.1, affine=True, track_running_stats=True)\n",
       "      (relu): ReLU(inplace=True)\n",
       "      (conv2): Conv2d(128, 128, kernel_size=(3, 3), stride=(1, 1), padding=(1, 1), bias=False)\n",
       "      (bn2): BatchNorm2d(128, eps=1e-05, momentum=0.1, affine=True, track_running_stats=True)\n",
       "    )\n",
       "  )\n",
       "  (layer3): Sequential(\n",
       "    (0): BasicBlock(\n",
       "      (conv1): Conv2d(128, 256, kernel_size=(3, 3), stride=(2, 2), padding=(1, 1), bias=False)\n",
       "      (bn1): BatchNorm2d(256, eps=1e-05, momentum=0.1, affine=True, track_running_stats=True)\n",
       "      (relu): ReLU(inplace=True)\n",
       "      (conv2): Conv2d(256, 256, kernel_size=(3, 3), stride=(1, 1), padding=(1, 1), bias=False)\n",
       "      (bn2): BatchNorm2d(256, eps=1e-05, momentum=0.1, affine=True, track_running_stats=True)\n",
       "      (downsample): Sequential(\n",
       "        (0): Conv2d(128, 256, kernel_size=(1, 1), stride=(2, 2), bias=False)\n",
       "        (1): BatchNorm2d(256, eps=1e-05, momentum=0.1, affine=True, track_running_stats=True)\n",
       "      )\n",
       "    )\n",
       "    (1): BasicBlock(\n",
       "      (conv1): Conv2d(256, 256, kernel_size=(3, 3), stride=(1, 1), padding=(1, 1), bias=False)\n",
       "      (bn1): BatchNorm2d(256, eps=1e-05, momentum=0.1, affine=True, track_running_stats=True)\n",
       "      (relu): ReLU(inplace=True)\n",
       "      (conv2): Conv2d(256, 256, kernel_size=(3, 3), stride=(1, 1), padding=(1, 1), bias=False)\n",
       "      (bn2): BatchNorm2d(256, eps=1e-05, momentum=0.1, affine=True, track_running_stats=True)\n",
       "    )\n",
       "  )\n",
       "  (layer4): Sequential(\n",
       "    (0): Conv2d(256, 256, kernel_size=(3, 3), stride=(1, 1), padding=(1, 1))\n",
       "    (1): ReLU()\n",
       "    (2): AdaptiveAvgPool2d(output_size=(1, 1))\n",
       "  )\n",
       "  (avgpool): AdaptiveAvgPool2d(output_size=(1, 1))\n",
       "  (fc): Linear(in_features=256, out_features=3, bias=True)\n",
       ")"
      ]
     },
     "execution_count": 18,
     "metadata": {},
     "output_type": "execute_result"
    }
   ],
   "source": [
    "# directly loading the model parameters if you have already trained the model\n",
    "model.load_state_dict(torch.load(r\"C:\\Users\\User\\Desktop\\DeepLearning\\Major Project\\resnet_model_parameters_6.0.pth\"))\n",
    "model.eval()  # Set the model to evaluation mode (important for inference)"
   ]
  },
  {
   "cell_type": "code",
   "execution_count": 19,
   "metadata": {},
   "outputs": [
    {
     "name": "stdout",
     "output_type": "stream",
     "text": [
      "Predicted value of the image is: 2\n",
      "Actual label of the image is: 2\n"
     ]
    }
   ],
   "source": [
    "# Iterate through the dataloader to fetch a batch of images and labels\n",
    "for i, (images, labels) in enumerate(test_loader):\n",
    "    # Move images and labels to the CPU (Pillow works with CPU tensors)\n",
    "    images, labels = images.cpu(), labels.cpu()\n",
    "\n",
    "    # Transform tensor images back to PIL format for display\n",
    "    to_pil = transforms.ToPILImage()\n",
    "\n",
    "    for j in range(min(1, len(images))):  # Limit to 5 images\n",
    "        # Convert tensor to PIL image\n",
    "        pil_image = to_pil(images[j])\n",
    "\n",
    "        # Display image with Pillow\n",
    "        print(f\"Predicted value of the image is: {model(images.to(device)).argmax(1)[j].item()}\")\n",
    "        print(f\"Actual label of the image is: {labels[j].item()}\")\n",
    "\n",
    "        # Display the image using Pillow\n",
    "        pil_image.show()\n",
    "\n",
    "    # Break after processing the first batch (only for demonstration)\n",
    "    break\n"
   ]
  },
  {
   "cell_type": "code",
   "execution_count": null,
   "metadata": {
    "colab": {
     "base_uri": "https://localhost:8080/",
     "height": 228
    },
    "executionInfo": {
     "elapsed": 533,
     "status": "error",
     "timestamp": 1729520682345,
     "user": {
      "displayName": "Ankit Sapkota",
      "userId": "17812249283392455981"
     },
     "user_tz": -345
    },
    "id": "xbPffDQlZmc9",
    "outputId": "eb470e14-754e-402f-e924-4f412c64dcf0"
   },
   "outputs": [],
   "source": [
    "\n"
   ]
  },
  {
   "cell_type": "code",
   "execution_count": null,
   "metadata": {
    "id": "0Se-h8lDbQqG"
   },
   "outputs": [],
   "source": []
  }
 ],
 "metadata": {
  "accelerator": "GPU",
  "colab": {
   "authorship_tag": "ABX9TyPNZXTTGjqRtUQIt/wvpDB5",
   "gpuType": "T4",
   "provenance": []
  },
  "kernelspec": {
   "display_name": "Python 3 (ipykernel)",
   "language": "python",
   "name": "python3"
  },
  "language_info": {
   "codemirror_mode": {
    "name": "ipython",
    "version": 3
   },
   "file_extension": ".py",
   "mimetype": "text/x-python",
   "name": "python",
   "nbconvert_exporter": "python",
   "pygments_lexer": "ipython3",
   "version": "3.11.7"
  }
 },
 "nbformat": 4,
 "nbformat_minor": 4
}
