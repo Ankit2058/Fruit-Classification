{
  "nbformat": 4,
  "nbformat_minor": 0,
  "metadata": {
    "colab": {
      "provenance": [],
      "authorship_tag": "ABX9TyOzo3rGPZ4JID8oZXFsFGlf",
      "include_colab_link": true
    },
    "kernelspec": {
      "name": "python3",
      "display_name": "Python 3"
    },
    "language_info": {
      "name": "python"
    }
  },
  "cells": [
    {
      "cell_type": "markdown",
      "metadata": {
        "id": "view-in-github",
        "colab_type": "text"
      },
      "source": [
        "<a href=\"https://colab.research.google.com/github/Ankit2058/Fruit-Classification/blob/main/Custom_Neural_Network.ipynb\" target=\"_parent\"><img src=\"https://colab.research.google.com/assets/colab-badge.svg\" alt=\"Open In Colab\"/></a>"
      ]
    },
    {
      "cell_type": "markdown",
      "source": [],
      "metadata": {
        "id": "ZBju6qwE_w-f"
      }
    },
    {
      "cell_type": "markdown",
      "source": [
        "I have two dataset of rooten and fresh banana\n",
        "\n",
        "First i need to mount the google drive to acces them"
      ],
      "metadata": {
        "id": "DLRn9m2s_zUu"
      }
    },
    {
      "cell_type": "code",
      "source": [
        "from google.colab import drive\n",
        "drive.mount('/content/drive')"
      ],
      "metadata": {
        "colab": {
          "base_uri": "https://localhost:8080/"
        },
        "id": "R7YEYC1p_7nt",
        "outputId": "a03545bd-8c0b-4173-f2f0-d72bfcb73988"
      },
      "execution_count": 2,
      "outputs": [
        {
          "output_type": "stream",
          "name": "stdout",
          "text": [
            "Drive already mounted at /content/drive; to attempt to forcibly remount, call drive.mount(\"/content/drive\", force_remount=True).\n"
          ]
        }
      ]
    },
    {
      "cell_type": "code",
      "source": [
        "import os\n",
        "import shutil\n",
        "import numpy as np\n",
        "import matplotlib.pyplot as plt\n",
        "from PIL import Image\n",
        "\n",
        "import torch\n",
        "import torchvision\n",
        "from torchvision import datasets\n",
        "from torchvision.transforms import ToTensor\n",
        "from torch import nn\n",
        "import torchvision.transforms as transforms\n",
        "from torch.utils.data import DataLoader, TensorDataset"
      ],
      "metadata": {
        "id": "0b71uBfBQffE"
      },
      "execution_count": 3,
      "outputs": []
    },
    {
      "cell_type": "code",
      "source": [
        "\n",
        "F_Banana = \"/content/drive/MyDrive/Major_Project/F_Banana\"\n",
        "S_Banana = \"/content/drive/MyDrive/Major_Project/S_Banana\"\n",
        "\n",
        "data = []\n",
        "labels = []\n",
        "\n",
        "# Function to load images\n",
        "def load_image(file_path):\n",
        "    image = Image.open(file_path).convert('RGB')  # Convert to RGB\n",
        "    image = image.resize((64, 64))  # Resize images to a common size (e.g., 128x128)\n",
        "    return np.array(image)\n",
        "\n",
        "# Load images from folder 1 and label as 0\n",
        "for file_name in os.listdir(F_Banana):\n",
        "    if file_name.endswith(('.png', '.jpg', '.jpeg')):\n",
        "        file_path = os.path.join(F_Banana, file_name)\n",
        "        image_array = load_image(file_path)\n",
        "        data.append(image_array)\n",
        "        labels.append(0)\n",
        "\n",
        "# Load images from folder 2 and label as 1\n",
        "for file_name in os.listdir(S_Banana):\n",
        "    if file_name.endswith(('.png', '.jpg', '.jpeg')):\n",
        "        file_path = os.path.join(S_Banana, file_name)\n",
        "        image_array = load_image(file_path)\n",
        "        data.append(image_array)\n",
        "        labels.append(1)\n"
      ],
      "metadata": {
        "id": "N7PnpUdpF6-x"
      },
      "execution_count": 4,
      "outputs": []
    },
    {
      "cell_type": "code",
      "source": [
        "data = np.array(data)\n",
        "labels = np.array(labels)"
      ],
      "metadata": {
        "id": "kM6j2hGgPwkl"
      },
      "execution_count": 5,
      "outputs": []
    },
    {
      "cell_type": "code",
      "source": [
        "from sklearn.model_selection import train_test_split\n",
        "\n",
        "# Split the data into training and testing sets\n",
        "train_data, test_data, train_labels, test_labels = train_test_split(data, labels, test_size=0.2, random_state=42)\n"
      ],
      "metadata": {
        "id": "T6HPAI0NQRCU"
      },
      "execution_count": 6,
      "outputs": []
    },
    {
      "cell_type": "code",
      "source": [
        "print(type(train_labels[3]))"
      ],
      "metadata": {
        "colab": {
          "base_uri": "https://localhost:8080/"
        },
        "id": "gBioFvsTRARV",
        "outputId": "7a64c3e7-9d12-4b8e-c8f2-8547814237c7"
      },
      "execution_count": 7,
      "outputs": [
        {
          "output_type": "stream",
          "name": "stdout",
          "text": [
            "<class 'numpy.int64'>\n"
          ]
        }
      ]
    },
    {
      "cell_type": "code",
      "source": [
        "#we are defining plotting funtion to ease our process of looking at the data\n",
        "def plotting(image,label):\n",
        "\n",
        "# Get the first item in the training data\n",
        "  #image, label = data\n",
        "\n",
        "# Print the label\n",
        "  print(f\"Label: {label}\")\n",
        "\n",
        "# Plot the image\n",
        "  plt.imshow(image.squeeze(),cmap='gray') #we squeeze the image to reduce its dimension to 2D for the purpose of plotting.\n",
        "#The third dimension was used to index the image and it dosent hold any meaning for image representation so we squeeze it\n",
        "# cmap defines color mapping, checkout these options for further clarity 1)gray 2)viridis(default) 3)plasma 4)inferno 5)magma ......and many more\n",
        "  plt.title(f\"Label: {label}\")\n",
        "  plt.show()\n",
        "\n",
        "#lets test our funtion\n",
        "plotting(train_data[45],train_labels[45])"
      ],
      "metadata": {
        "colab": {
          "base_uri": "https://localhost:8080/",
          "height": 469
        },
        "id": "weUc9CNqQVZR",
        "outputId": "03539e50-4192-4b61-ec2f-1692e8311501"
      },
      "execution_count": 8,
      "outputs": [
        {
          "output_type": "stream",
          "name": "stdout",
          "text": [
            "Label: 0\n"
          ]
        },
        {
          "output_type": "display_data",
          "data": {
            "text/plain": [
              "<Figure size 640x480 with 1 Axes>"
            ],
            "image/png": "[encoded data removed]"
          },
          "metadata": {}
        }
      ]
    },
    {
      "cell_type": "code",
      "source": [
        "print(train_data[45].shape)"
      ],
      "metadata": {
        "colab": {
          "base_uri": "https://localhost:8080/"
        },
        "id": "BYuShlCrXN-K",
        "outputId": "a30fc547-595e-4e14-da4e-483d6bb64c69"
      },
      "execution_count": 9,
      "outputs": [
        {
          "output_type": "stream",
          "name": "stdout",
          "text": [
            "(64, 64, 3)\n"
          ]
        }
      ]
    },
    {
      "cell_type": "code",
      "source": [
        "print(f\"we have {len(train_data)} data for training and {len(test_data)} for testing\")\n",
        "#we have a huge dataset and we cant inset it directly into the"
      ],
      "metadata": {
        "colab": {
          "base_uri": "https://localhost:8080/"
        },
        "id": "3d0m_wHNQzHX",
        "outputId": "fce54a30-074b-46f0-c2b8-fc6ffe719c40"
      },
      "execution_count": 10,
      "outputs": [
        {
          "output_type": "stream",
          "name": "stdout",
          "text": [
            "we have 480 data for training and 120 for testing\n"
          ]
        }
      ]
    },
    {
      "cell_type": "code",
      "source": [
        "#lets see what one particular data looks like\n",
        "image=train_data[89]\n",
        "print(image)"
      ],
      "metadata": {
        "colab": {
          "base_uri": "https://localhost:8080/"
        },
        "id": "gREXY_guTGUQ",
        "outputId": "b8652515-9f14-44c8-f505-3cd56090807f"
      },
      "execution_count": 11,
      "outputs": [
        {
          "output_type": "stream",
          "name": "stdout",
          "text": [
            "[[[207 222 217]\n",
            "  [203 218 213]\n",
            "  [192 207 202]\n",
            "  ...\n",
            "  [ 88  92  91]\n",
            "  [ 88  92  91]\n",
            "  [ 90  94  93]]\n",
            "\n",
            " [[197 212 207]\n",
            "  [195 210 205]\n",
            "  [189 204 199]\n",
            "  ...\n",
            "  [103 107 106]\n",
            "  [103 107 106]\n",
            "  [102 106 105]]\n",
            "\n",
            " [[198 213 208]\n",
            "  [194 209 204]\n",
            "  [190 205 200]\n",
            "  ...\n",
            "  [109 113 112]\n",
            "  [110 114 113]\n",
            "  [111 115 114]]\n",
            "\n",
            " ...\n",
            "\n",
            " [[232 247 242]\n",
            "  [223 238 233]\n",
            "  [218 233 228]\n",
            "  ...\n",
            "  [ 58  60  59]\n",
            "  [ 56  58  57]\n",
            "  [ 56  58  57]]\n",
            "\n",
            " [[225 240 235]\n",
            "  [220 235 230]\n",
            "  [218 233 228]\n",
            "  ...\n",
            "  [ 59  61  60]\n",
            "  [ 57  59  58]\n",
            "  [ 58  60  59]]\n",
            "\n",
            " [[215 230 225]\n",
            "  [211 226 221]\n",
            "  [219 234 229]\n",
            "  ...\n",
            "  [ 62  64  63]\n",
            "  [ 58  60  59]\n",
            "  [ 59  61  60]]]\n"
          ]
        }
      ]
    },
    {
      "cell_type": "markdown",
      "source": [
        "its an matrics of numbers."
      ],
      "metadata": {
        "id": "RlJW9KZKTc4D"
      }
    },
    {
      "cell_type": "code",
      "source": [
        "#Working with nn we first need to define or import the model we will be training upon\n",
        "#lets just define it!\n",
        "class neural_network(torch.nn.Module):\n",
        "  #we define the skeleton of our model using class and instante an model as an object, here you will find _init_(constructor) which instanciate every model with attributes flatten and linear_relu_stack that hold the object of the instantiated class\n",
        "  def __init__(self):\n",
        "    super(neural_network,self).__init__()\n",
        "    self.flatten=torch.nn.Flatten() #self.flatten is instanciated from torch.nn.Flatten\n",
        "    #self is used to bring the defined attribute,function out of the  _init_ funtion scope\n",
        "    #Anything defined with \"self\"prefix has its scope across the class\n",
        "    self.linear_relu_stack=torch.nn.Sequential(\n",
        "        nn.Linear(64*64*3,12288),\n",
        "        nn.ReLU(),\n",
        "        nn.Linear(12288,12288),\n",
        "        nn.ReLU(),\n",
        "        nn.Linear(12288,1024),\n",
        "        nn.ReLU(),\n",
        "        nn.Linear(1024,2)\n",
        "    )\n",
        "    #Then we defin a forward funtion to propagate input data throught the model\n",
        "  def forward(self,x):\n",
        "     x = self.flatten(x)\n",
        "     logits = self.linear_relu_stack(x)\n",
        "     return logits"
      ],
      "metadata": {
        "id": "lRn_9gYATV1T"
      },
      "execution_count": 12,
      "outputs": []
    },
    {
      "cell_type": "code",
      "source": [
        "#now lets define a model as an instane of the neural_network class\n",
        "model=neural_network();"
      ],
      "metadata": {
        "id": "Ym9q-Gr_Thl-"
      },
      "execution_count": 13,
      "outputs": []
    },
    {
      "cell_type": "code",
      "source": [
        "loss_fn = nn.CrossEntropyLoss()\n",
        "learning_rate = 1e-3\n",
        "optimizer = torch.optim.SGD(model.parameters(), lr=learning_rate)\n",
        "epoch=10\n",
        "batch_size=64"
      ],
      "metadata": {
        "id": "Q8ZRy8jaT1nA"
      },
      "execution_count": 14,
      "outputs": []
    },
    {
      "cell_type": "code",
      "source": [
        "# Converting the NumPy arrays to PyTorch tensors\n",
        "train_data_tensor = torch.tensor(train_data, dtype=torch.float32)\n",
        "train_labels_tensor = torch.tensor(train_labels, dtype=torch.long)\n",
        "test_data_tensor = torch.tensor(test_data, dtype=torch.float32)\n",
        "test_labels_tensor = torch.tensor(test_labels, dtype=torch.long)\n",
        "\n",
        "# Normalizing the data (if necessary)\n",
        "train_data_tensor /= 255.0\n",
        "test_data_tensor /= 255.0\n",
        "\n",
        "# Creating Tensor Datasets\n",
        "train_dataset = TensorDataset(train_data_tensor, train_labels_tensor)\n",
        "test_dataset = TensorDataset(test_data_tensor, test_labels_tensor)\n",
        "\n",
        "# Set batch size\n",
        "batch_size = 32  # You can adjust this value\n",
        "\n",
        "# Create DataLoaders\n",
        "train_loader = DataLoader(train_dataset, batch_size=batch_size, shuffle=True)\n",
        "test_loader = DataLoader(test_dataset, batch_size=batch_size, shuffle=False)\n",
        "\n",
        "# Now, train_loader and test_loader are ready for training and testing your model\n"
      ],
      "metadata": {
        "id": "J4AJzkaCUKnc"
      },
      "execution_count": 15,
      "outputs": []
    },
    {
      "cell_type": "code",
      "source": [
        "#so we have build up all of our arsenal required for the final job of training our small model and test how well it did its job\n",
        "#now lets train our model\n",
        "#here we define the tarining_looop which takes dataloader which feeds data in batches, training_loop further takes model itself, loss function and optimizer.\n",
        "#the sole purpose here is to calculate the loss using loss_fn on the ouput of the model when inputed with dataloader input and optimize model parameter using the optimizer specified in the argument\n",
        "def train_loop(dataloader, model, loss_fn, optimizer):\n",
        "    size = len(dataloader.dataset)\n",
        "    # Set the model to training mode - important for batch normalization and dropout layers\n",
        "    # Unnecessary in this situation but added for best practices\n",
        "    model.train()\n",
        "    for batch, (X, y) in enumerate(dataloader):\n",
        "      #In this loop batch hold the batch value given by dataloader and X and y values yet again from dataloader\n",
        "      #X dosent hold a single image rather it holds batch of images\n",
        "      #We loop through every batch of image\n",
        "      #And perform following computation, every batch\n",
        "        # Compute prediction and loss\n",
        "        pred = model(X)\n",
        "        #Output of batch of images\n",
        "        loss = loss_fn(pred, y)\n",
        "        #single loss value if computed from the batch of output\n",
        "\n",
        "        # Backpropagation\n",
        "        loss.backward()\n",
        "        #we propgate the loss back to each layers for gradient computation\n",
        "        optimizer.step()\n",
        "        #Then we optimize the model parameter\n",
        "        optimizer.zero_grad()\n",
        "        #Everytime we backpropagate, gradients value gets stored for optimization purposes, but if not set to zero the gradient of next batch will be accumulated\n",
        "        #now if you want to optimize the model after every 5 batches of data then do zero-grad after every 5 batches, till then the gradient of each of those 5 batches will be accumulated\n",
        "        #but for now we want to optimize the model after each batch so we need to zero-grad after every batch\n",
        "\n",
        "        if batch % 100 == 0:\n",
        "            print(batch)\n",
        "            loss, current = loss.item(), batch * batch_size + len(X)\n",
        "            print(f\"loss: {loss:>7f}  [{current:>5d}/{size:>5d}]\")\n",
        "\n",
        "\n",
        "def test_loop(dataloader, model, loss_fn):\n",
        "    # Set the model to evaluation mode - important for batch normalization and dropout layers\n",
        "    # Unnecessary in this situation but added for best practices\n",
        "    model.eval()\n",
        "    size = len(dataloader.dataset)\n",
        "    num_batches = len(dataloader)\n",
        "    test_loss, correct = 0, 0\n",
        "\n",
        "    # Evaluating the model with torch.no_grad() ensures that no gradients are computed during test mode\n",
        "    # also serves to reduce unnecessary gradient computations and memory usage for tensors with requires_grad=True\n",
        "    with torch.no_grad():\n",
        "        for X, y in dataloader:\n",
        "            pred = model(X)\n",
        "            test_loss += loss_fn(pred, y).item()\n",
        "            correct += (pred.argmax(1) == y).type(torch.float).sum().item()\n",
        "\n",
        "    test_loss /= num_batches\n",
        "    correct /= size\n",
        "    print(f\"Test Error: \\n Accuracy: {(100*correct):>0.1f}%, Avg loss: {test_loss:>8f} \\n\")\n"
      ],
      "metadata": {
        "id": "IlyJkza3VWV6"
      },
      "execution_count": 16,
      "outputs": []
    },
    {
      "cell_type": "code",
      "source": [
        "#now all we need to do is train and test the model for the number of times(epochs) we want\n",
        "epochs = 1\n",
        "for t in range(epochs):\n",
        "    print(f\"Epoch {t+1}\\n-------------------------------\")\n",
        "    train_loop(train_loader, model, loss_fn, optimizer)\n",
        "    test_loop(test_loader, model, loss_fn)\n",
        "print(\"DONE!\")"
      ],
      "metadata": {
        "colab": {
          "base_uri": "https://localhost:8080/"
        },
        "id": "74ftuyUyVo6k",
        "outputId": "9967df12-0e03-499b-d3a8-6118f55a938c"
      },
      "execution_count": 17,
      "outputs": [
        {
          "output_type": "stream",
          "name": "stdout",
          "text": [
            "Epoch 1\n",
            "-------------------------------\n",
            "0\n",
            "loss: 0.702107  [   32/  480]\n",
            "Test Error: \n",
            " Accuracy: 96.7%, Avg loss: 0.682476 \n",
            "\n",
            "DONE!\n"
          ]
        }
      ]
    },
    {
      "cell_type": "code",
      "source": [
        "# directly loading the model parameters if you have already trained the model\n",
        "model.load_state_dict(torch.load(\"model.pth\"))\n",
        "model.eval()  # Set the model to evaluation mode (important for inference)"
      ],
      "metadata": {
        "id": "LW1iSHDbbPpA"
      },
      "execution_count": null,
      "outputs": []
    },
    {
      "cell_type": "code",
      "source": [
        "\n",
        "#here i am checking if the predicted class matches with the actual class\n",
        "for i in range(5):\n",
        "  testing=test_images[i]\n",
        "  print(f\"predicted value of the image is {model(testing).argmax(1)}\") #this prints the actual class of the test data\n",
        "  #how it works: model(training) gives the matrices of ouput, argmax(1) gives the index of the value within the output with the highest value(highest value in the output denote the predicted class)\n",
        "  plotting(test_images[i],test_labels[i])\n",
        "  #plotting function shows the image in the data along with label\n"
      ],
      "metadata": {
        "colab": {
          "base_uri": "https://localhost:8080/",
          "height": 228
        },
        "id": "xbPffDQlZmc9",
        "outputId": "eb470e14-754e-402f-e924-4f412c64dcf0"
      },
      "execution_count": 26,
      "outputs": [
        {
          "output_type": "error",
          "ename": "NameError",
          "evalue": "name 'test_images' is not defined",
          "traceback": [
            "\u001b[0;31m---------------------------------------------------------------------------\u001b[0m",
            "\u001b[0;31mNameError\u001b[0m                                 Traceback (most recent call last)",
            "\u001b[0;32m<ipython-input-26-efc9835d1ee1>\u001b[0m in \u001b[0;36m<cell line: 2>\u001b[0;34m()\u001b[0m\n\u001b[1;32m      1\u001b[0m \u001b[0;31m#here i am checking if the predicted class matches with the actual class\u001b[0m\u001b[0;34m\u001b[0m\u001b[0;34m\u001b[0m\u001b[0m\n\u001b[1;32m      2\u001b[0m \u001b[0;32mfor\u001b[0m \u001b[0mi\u001b[0m \u001b[0;32min\u001b[0m \u001b[0mrange\u001b[0m\u001b[0;34m(\u001b[0m\u001b[0;36m5\u001b[0m\u001b[0;34m)\u001b[0m\u001b[0;34m:\u001b[0m\u001b[0;34m\u001b[0m\u001b[0;34m\u001b[0m\u001b[0m\n\u001b[0;32m----> 3\u001b[0;31m   \u001b[0mtesting\u001b[0m\u001b[0;34m=\u001b[0m\u001b[0mtest_images\u001b[0m\u001b[0;34m[\u001b[0m\u001b[0mi\u001b[0m\u001b[0;34m]\u001b[0m\u001b[0;34m\u001b[0m\u001b[0;34m\u001b[0m\u001b[0m\n\u001b[0m\u001b[1;32m      4\u001b[0m   \u001b[0mprint\u001b[0m\u001b[0;34m(\u001b[0m\u001b[0;34mf\"predicted value of the image is {model(testing).argmax(1)}\"\u001b[0m\u001b[0;34m)\u001b[0m \u001b[0;31m#this prints the actual class of the test data\u001b[0m\u001b[0;34m\u001b[0m\u001b[0;34m\u001b[0m\u001b[0m\n\u001b[1;32m      5\u001b[0m   \u001b[0;31m#how it works: model(training) gives the matrices of ouput, argmax(1) gives the index of the value within the output with the highest value(highest value in the output denote the predicted class)\u001b[0m\u001b[0;34m\u001b[0m\u001b[0;34m\u001b[0m\u001b[0m\n",
            "\u001b[0;31mNameError\u001b[0m: name 'test_images' is not defined"
          ]
        }
      ]
    },
    {
      "cell_type": "code",
      "source": [],
      "metadata": {
        "id": "0Se-h8lDbQqG"
      },
      "execution_count": null,
      "outputs": []
    }
  ]
}